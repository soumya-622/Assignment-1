{
 "cells": [
  {
   "cell_type": "code",
   "execution_count": 1,
   "id": "fee104df-345c-4589-ae58-2c65b479ec8e",
   "metadata": {},
   "outputs": [],
   "source": [
    "# Create a markdown cell with the title of the notebook."
   ]
  },
  {
   "cell_type": "markdown",
   "id": "d2f77f93-217c-4b28-b204-24237d9dfcae",
   "metadata": {},
   "source": [
    "### Data Science Tools and Ecosystem"
   ]
  },
  {
   "cell_type": "code",
   "execution_count": null,
   "id": "31f6a1d8-c2c9-472f-ae19-8a1d8272b65d",
   "metadata": {},
   "outputs": [],
   "source": [
    "# Create a markdown cell for an introduction."
   ]
  },
  {
   "cell_type": "markdown",
   "id": "51f13500-be75-4410-a7be-24837b5de552",
   "metadata": {},
   "source": [
    "### In this notebook, Data Science Tools and Ecosystem are summarized."
   ]
  },
  {
   "cell_type": "code",
   "execution_count": null,
   "id": "4e772262-90f5-4125-a9b2-03e6a7170bbb",
   "metadata": {},
   "outputs": [],
   "source": [
    "# Create a markdown cell to list data science languages"
   ]
  },
  {
   "cell_type": "markdown",
   "id": "080d32f9-16e6-4a5a-aee4-c812de025ab2",
   "metadata": {},
   "source": [
    "1. **Python** - Widely used for its simplicity and large ecosystem of libraries (e.g., Pandas, NumPy, SciPy, Scikit-learn).\n",
    "2. **R** - Popular for statistical computing and graphics, with extensive data analysis libraries.\n",
    "3. **SQL** - Essential for database management and querying large datasets.\n",
    "4. **Julia** - Known for high-performance numerical and scientific computing.\n",
    "5. **Scala** - Used with Apache Spark for big data processing.\n",
    "6. **Java** - Utilized in large-scale data applications and frameworks.\n",
    "7. **MATLAB** - A specialized tool for mathematical computing and data visualization."
   ]
  },
  {
   "cell_type": "code",
   "execution_count": null,
   "id": "f8d00c68-a151-47d3-9821-20beddbfb131",
   "metadata": {},
   "outputs": [],
   "source": [
    "# Create a markdown cell to list data science libraries"
   ]
  },
  {
   "cell_type": "markdown",
   "id": "b535ff69-628a-43c4-96be-5b3bf816b3cd",
   "metadata": {},
   "source": [
    "1. **NumPy** - A fundamental library for numerical computations in Python.\n",
    "2. **Pandas** - Provides data structures for data manipulation and analysis.\n",
    "3. **Matplotlib** - A library for creating static, animated, and interactive visualizations.\n",
    "4. **Seaborn** - Built on top of Matplotlib, it provides a high-level interface for drawing attractive statistical graphics.\n",
    "5. **Scikit-learn** - A powerful library for machine learning and statistical modeling, including classification, regression, clustering, and more.\n",
    "6. **TensorFlow** - An open-source library for machine learning and deep learning developed by Google.\n",
    "7. **Keras** - A user-friendly neural network library that runs on top of TensorFlow.\n",
    "8. **PyTorch** - An open-source deep learning framework developed by Facebook.\n",
    "9. **Statsmodels** - A library for estimating and testing statistical models.\n",
    "10. **SciPy** - A library for scientific computing that builds on NumPy."
   ]
  },
  {
   "cell_type": "code",
   "execution_count": 9,
   "id": "dcc80f1d-5dbc-4095-aae8-f0f5f84f4a57",
   "metadata": {},
   "outputs": [],
   "source": [
    "# Create a markdown cell with a table of Data Science tools"
   ]
  },
  {
   "cell_type": "markdown",
   "id": "1faf0b14-f9e2-4bf6-a4ee-ad29c766243f",
   "metadata": {},
   "source": [
    "\n",
    "\n",
    "| Data Science Tools           | Description                                           | Use Case                                      |\n",
    "|----------------|-------------------------------------------------------|-----------------------------------------------|\n",
    "| **Jupyter**    | An open-source web application for creating notebooks  | Interactive coding, data analysis, and visualization |\n",
    "| **RStudio**    | An IDE for R programming language                      | Statistical computing and graphics            |\n",
    "| **Apache Spark**| A unified analytics engine for large-scale data processing | Big data processing and machine learning       |\n",
    "| **Tableau**    | A powerful data visualization tool                     | Business intelligence and interactive dashboards|\n",
    "| **Power BI**   | Microsoft's business analytics service                 | Data visualization and business intelligence  |\n",
    "| **KNIME**      | An open-source platform for data analytics and reporting | Data mining and visual workflows             |\n",
    "| **Google Colab**| A cloud-based Jupyter notebook environment            | Python coding and machine learning in the cloud |\n",
    "| **Hadoop**     | A framework for distributed storage and processing of large data sets | Big data storage and processing              |\n",
    "\n"
   ]
  },
  {
   "cell_type": "code",
   "execution_count": 12,
   "id": "9c20ab6d-dfe5-4f68-a54c-354c770cb22c",
   "metadata": {},
   "outputs": [],
   "source": [
    "# Create a markdown cell introducing arithmetic expression examples"
   ]
  },
  {
   "cell_type": "markdown",
   "id": "6930a41d-e995-49c8-9770-846744d2144b",
   "metadata": {},
   "source": [
    "\n",
    "\n",
    " **Addition (`+`)**: Adds two numbers.\n",
    "   ```python\n",
    "   result = 5 + 3  # Output: 8\n"
   ]
  },
  {
   "cell_type": "code",
   "execution_count": 16,
   "id": "117747a0-2c7d-4abe-8717-124eff8c7457",
   "metadata": {},
   "outputs": [],
   "source": [
    "# Create a code cell to multiply and add numbers. "
   ]
  },
  {
   "cell_type": "code",
   "execution_count": 33,
   "id": "67a492bd-45bb-4e9a-a85e-542fda41f999",
   "metadata": {},
   "outputs": [
    {
     "data": {
      "text/plain": [
       "17"
      ]
     },
     "execution_count": 33,
     "metadata": {},
     "output_type": "execute_result"
    }
   ],
   "source": [
    "a = 3\n",
    "b = 4\n",
    "c = 5\n",
    "(a * b) + c"
   ]
  },
  {
   "cell_type": "code",
   "execution_count": 35,
   "id": "e223ae5a-cc0f-462d-bc21-25e103201763",
   "metadata": {},
   "outputs": [
    {
     "data": {
      "text/plain": [
       "3.3333333333333335"
      ]
     },
     "execution_count": 35,
     "metadata": {},
     "output_type": "execute_result"
    }
   ],
   "source": [
    "# Convert minutes to hours\n",
    "minutes = 200\n",
    "hours = minutes / 60\n",
    "hours\n"
   ]
  },
  {
   "cell_type": "markdown",
   "id": "e25c8803-6acb-49fa-8bd2-97e99bb59d35",
   "metadata": {},
   "source": [
    "\n",
    "### Create a Jupyter Notebook, Insert code and markdown cells, Share your notebook through GitHub"
   ]
  },
  {
   "cell_type": "code",
   "execution_count": 26,
   "id": "4edc330a-d205-474e-a87c-6b6c7e667a93",
   "metadata": {},
   "outputs": [],
   "source": [
    "#  Create a markdown cell to indicate the Author’s name."
   ]
  },
  {
   "cell_type": "markdown",
   "id": "524989aa-cfa9-4ab0-8d44-660fb62674c8",
   "metadata": {},
   "source": [
    "## Lakshmi Holla, Niveditha Pandith, Soumyadeep Biswas"
   ]
  },
  {
   "cell_type": "code",
   "execution_count": null,
   "id": "aead9401-ee4e-482b-a1c5-2b38262912a3",
   "metadata": {},
   "outputs": [],
   "source": []
  }
 ],
 "metadata": {
  "kernelspec": {
   "display_name": "Python 3 (ipykernel)",
   "language": "python",
   "name": "python3"
  },
  "language_info": {
   "codemirror_mode": {
    "name": "ipython",
    "version": 3
   },
   "file_extension": ".py",
   "mimetype": "text/x-python",
   "name": "python",
   "nbconvert_exporter": "python",
   "pygments_lexer": "ipython3",
   "version": "3.12.4"
  }
 },
 "nbformat": 4,
 "nbformat_minor": 5
}
